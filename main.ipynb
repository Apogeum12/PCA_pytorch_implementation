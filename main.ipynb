{
 "cells": [
  {
   "cell_type": "markdown",
   "metadata": {},
   "source": [
    "# Example Uses LPCA\n",
    "Example Uses LPCA algorithm and compare with sklearn:\n",
    " \n",
    " * TSNE\n",
    " * KMeans\n",
    " * PCA"
   ]
  },
  {
   "cell_type": "code",
   "execution_count": 4,
   "metadata": {},
   "outputs": [
    {
     "name": "stdout",
     "output_type": "stream",
     "text": [
      "<class 'pandas.core.frame.DataFrame'>\n",
      "Int64Index: 150 entries, 0 to 149\n",
      "Data columns (total 5 columns):\n",
      " #   Column     Non-Null Count  Dtype  \n",
      "---  ------     --------------  -----  \n",
      " 0   sepal_len  150 non-null    float64\n",
      " 1   sepal_wid  150 non-null    float64\n",
      " 2   petal_len  150 non-null    float64\n",
      " 3   petal_wid  150 non-null    float64\n",
      " 4   class      150 non-null    object \n",
      "dtypes: float64(4), object(1)\n",
      "memory usage: 7.0+ KB\n",
      "\n",
      "Shape of X_iris: (150, 4) Shape of y_iris: (150,) \n",
      "\n",
      "<class 'pandas.core.frame.DataFrame'>\n",
      "Int64Index: 4521 entries, 0 to 4520\n",
      "Data columns (total 17 columns):\n",
      " #   Column     Non-Null Count  Dtype \n",
      "---  ------     --------------  ----- \n",
      " 0   age        4521 non-null   int64 \n",
      " 1   job        4521 non-null   object\n",
      " 2   marital    4521 non-null   object\n",
      " 3   education  4521 non-null   object\n",
      " 4   default    4521 non-null   object\n",
      " 5   balance    4521 non-null   int64 \n",
      " 6   housing    4521 non-null   object\n",
      " 7   loan       4521 non-null   object\n",
      " 8   contact    4521 non-null   object\n",
      " 9   day        4521 non-null   int64 \n",
      " 10  month      4521 non-null   object\n",
      " 11  duration   4521 non-null   int64 \n",
      " 12  campaign   4521 non-null   int64 \n",
      " 13  pdays      4521 non-null   int64 \n",
      " 14  previous   4521 non-null   int64 \n",
      " 15  poutcome   4521 non-null   object\n",
      " 16  y          4521 non-null   object\n",
      "dtypes: int64(7), object(10)\n",
      "memory usage: 635.8+ KB\n",
      "\n",
      "Shape of X_iris: (4521, 16) Shape of y_iris: (4521,) \n",
      "\n"
     ]
    }
   ],
   "source": [
    "# Import Data\n",
    "#   - Iris import\n",
    "import pandas as pd\n",
    "data_iris = pd.read_csv(filepath_or_buffer='https://archive.ics.uci.edu/ml/machine-learning-databases/iris/iris.data',\n",
    "                 header= None, \n",
    "                 sep= ',')\n",
    "\n",
    "data_iris.columns=['sepal_len', 'sepal_wid', 'petal_len', 'petal_wid', 'class']\n",
    "data_iris.dropna(how=\"all\", inplace=True) # drops the empty line at file-end\n",
    "data_iris.info(verbose=True)\n",
    "\n",
    "X_iris = data_iris.iloc[:,0:4].values\n",
    "y_iris = data_iris.iloc[:,4].values\n",
    "print(\"\\nShape of X_iris: {} Shape of y_iris: {} \\n\".format(X_iris.shape, y_iris.shape))\n",
    "\n",
    "#   - Bank data import from file \n",
    "data_bank =  pd.read_csv('data/bank.csv',\n",
    "                    sep=';')\n",
    "# Columns is build in file no need to add to data\n",
    "data_bank.dropna(how=\"all\", inplace=True) # drops the empty line at file-end\n",
    "data_bank.info(verbose=True)\n",
    "\n",
    "X_bank = data_bank.iloc[:,0:16].values\n",
    "y_bank = data_bank.iloc[:,16].values\n",
    "print(\"\\nShape of X_bank: {} Shape of y_bank: {} \\n\".format(X_bank.shape, y_bank.shape))"
   ]
  },
  {
   "cell_type": "code",
   "execution_count": 5,
   "metadata": {},
   "outputs": [
    {
     "name": "stdout",
     "output_type": "stream",
     "text": [
      "\n",
      " After Preprocesing data look: \n",
      "Shape of X_bank: (4521, 51) Shape of Y_bank: (4521,)\n"
     ]
    }
   ],
   "source": [
    "# Preprocesin Data\n",
    "import numpy as np\n",
    "from sklearn.compose import ColumnTransformer\n",
    "from sklearn.preprocessing import OneHotEncoder, LabelEncoder\n",
    "\n",
    "ct = ColumnTransformer(transformers=[('encoder', OneHotEncoder(), [1, 2, 3, 4, 6, 7, 8, 10, 15])], remainder='passthrough')\n",
    "X_bank = np.float64(ct.fit_transform(X_bank))\n",
    "print(\"\\n After Preprocesing data shape is: \")\n",
    "print(\"Shape of X_bank: {} Shape of Y_bank: {}\".format(X_bank.shape, y_bank.shape))"
   ]
  },
  {
   "cell_type": "code",
   "execution_count": null,
   "metadata": {},
   "outputs": [],
   "source": []
  },
  {
   "cell_type": "code",
   "execution_count": null,
   "metadata": {},
   "outputs": [],
   "source": []
  },
  {
   "cell_type": "code",
   "execution_count": null,
   "metadata": {},
   "outputs": [],
   "source": []
  },
  {
   "cell_type": "code",
   "execution_count": null,
   "metadata": {},
   "outputs": [],
   "source": []
  },
  {
   "cell_type": "code",
   "execution_count": null,
   "metadata": {},
   "outputs": [],
   "source": []
  },
  {
   "cell_type": "code",
   "execution_count": null,
   "metadata": {},
   "outputs": [],
   "source": []
  },
  {
   "cell_type": "code",
   "execution_count": null,
   "metadata": {},
   "outputs": [],
   "source": []
  },
  {
   "cell_type": "code",
   "execution_count": null,
   "metadata": {},
   "outputs": [],
   "source": []
  }
 ],
 "metadata": {
  "kernelspec": {
   "display_name": "Python 3",
   "language": "python",
   "name": "python3"
  },
  "language_info": {
   "codemirror_mode": {
    "name": "ipython",
    "version": 3
   },
   "file_extension": ".py",
   "mimetype": "text/x-python",
   "name": "python",
   "nbconvert_exporter": "python",
   "pygments_lexer": "ipython3",
   "version": "3.8.2"
  }
 },
 "nbformat": 4,
 "nbformat_minor": 4
}
